{
 "cells": [
  {
   "cell_type": "code",
   "execution_count": 1,
   "id": "6397773e-71df-4431-8c1c-f1a7af8816b6",
   "metadata": {},
   "outputs": [],
   "source": [
    "import numpy as np\n",
    "import matplotlib.pyplot as plt "
   ]
  },
  {
   "cell_type": "code",
   "execution_count": null,
   "id": "982d3ed1-2a56-4db4-95d1-97c787f76942",
   "metadata": {},
   "outputs": [],
   "source": [
    "def evaluate_metrics(model_name,models,X_test, y_test):\n",
    "    df = pd.DataFrame(columns=['Model no', 'Accuracy', 'Precision', 'f1 score', 'Recall'])\n",
    "    print('Scores for : '+model_name)\n",
    "    for i, model in enumerate(models):\n",
    "        y_pred  =  model.predict(X_test)\n",
    "        accuracy = metrics.accuracy_score(y_test, y_pred)\n",
    "        prescision = metrics.precision_score(y_test, y_pred)\n",
    "        f1 = metrics.f1_score(y_test, y_pred)\n",
    "        recall = metrics.recall_score(y_test, y_pred)\n",
    "        \n",
    "        #data  = {'Accuracy':accuracy, 'Precision':prescision, 'f1 score':f1, 'Recall':recall}\n",
    "        #df = pd.DataFrame(data)\n",
    "        model_label = model_name+\"-\"+str(i)\n",
    "        df.loc[len(df.index)] = [model_label, accuracy,prescision,f1,recall]\n",
    "    #plt.plot(y = df['Accuracy'], x = range(6))\n",
    "    df.plot(ylim=(0,1), style='.-', figsize=[10,3])\n",
    "    a = df['Accuracy'].mean()\n",
    "    b = df['Precision'].mean()\n",
    "    c = df['f1 score'].mean()\n",
    "    d = df['Recall'].mean()\n",
    "    df.loc[len(df.index)] = ['Avg', accuracy,prescision,f1,recall]\n",
    "    \n",
    "    print(df.head(10))"
   ]
  },
  {
   "cell_type": "markdown",
   "id": "69e841aa-fc3c-4c56-b45f-b7a11261d890",
   "metadata": {
    "tags": []
   },
   "source": [
    "### "
   ]
  },
  {
   "cell_type": "code",
   "execution_count": null,
   "id": "3b014267-abd9-4912-b404-a94353ed066c",
   "metadata": {},
   "outputs": [],
   "source": []
  },
  {
   "cell_type": "code",
   "execution_count": null,
   "id": "fc805afb-bf7b-4df6-b383-636adeb41135",
   "metadata": {},
   "outputs": [],
   "source": []
  },
  {
   "cell_type": "code",
   "execution_count": null,
   "id": "969f2efd-eb80-4087-ad66-9276ac8ea8f1",
   "metadata": {},
   "outputs": [],
   "source": []
  },
  {
   "cell_type": "code",
   "execution_count": null,
   "id": "d5786dd4-e19a-4104-86e3-f048aac100bb",
   "metadata": {},
   "outputs": [],
   "source": []
  }
 ],
 "metadata": {
  "kernelspec": {
   "display_name": "Python 3 (ipykernel)",
   "language": "python",
   "name": "python3"
  },
  "language_info": {
   "codemirror_mode": {
    "name": "ipython",
    "version": 3
   },
   "file_extension": ".py",
   "mimetype": "text/x-python",
   "name": "python",
   "nbconvert_exporter": "python",
   "pygments_lexer": "ipython3",
   "version": "3.9.13"
  }
 },
 "nbformat": 4,
 "nbformat_minor": 5
}
