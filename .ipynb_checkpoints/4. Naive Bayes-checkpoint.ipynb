{
 "cells": [
  {
   "cell_type": "code",
   "execution_count": 42,
   "id": "ab73c969-e1e6-4632-84e7-a4388283caec",
   "metadata": {},
   "outputs": [],
   "source": [
    "import numpy as np\n",
    "from sklearn.model_selection import train_test_split\n",
    "from scipy import sparse\n",
    "import os\n",
    "from sklearn.naive_bayes import MultinomialNB\n",
    "from scipy.sparse import csr_matrix"
   ]
  },
  {
   "cell_type": "markdown",
   "id": "f3f7d4ae-a499-4189-9d0e-21a4087204a5",
   "metadata": {},
   "source": [
    "## TODO:-\n",
    "1. fetch splitted data \n",
    "2. train n models\n",
    "3. get accuracy pointers"
   ]
  },
  {
   "cell_type": "markdown",
   "id": "255cfbb4-9ffc-4da8-883a-a7386a640c44",
   "metadata": {},
   "source": [
    "## Trainning n models"
   ]
  },
  {
   "cell_type": "code",
   "execution_count": 88,
   "id": "67cc390c-ea86-43f2-aabb-be401751d498",
   "metadata": {},
   "outputs": [
    {
     "name": "stdout",
     "output_type": "stream",
     "text": [
      "['BOW_NEG.npz', 'BOW_POS0.npz', 'BOW_POS1.npz', 'BOW_POS2.npz', 'BOW_POS3.npz', 'BOW_POS4.npz', 'BOW_POS5.npz']\n",
      "BOW\\BOW_POS0.npz (56301, 122124)\n",
      "BOW\\BOW_POS1.npz (56301, 122124)\n",
      "BOW\\BOW_POS2.npz (56301, 122124)\n",
      "BOW\\BOW_POS3.npz (56301, 122124)\n",
      "BOW\\BOW_POS4.npz (56301, 122124)\n",
      "BOW\\BOW_POS5.npz (56301, 122124)\n",
      "BOW\\BOW_NEG.npz (337809, 122124)\n"
     ]
    }
   ],
   "source": [
    "path = r'BOW'\n",
    "files = os.listdir(path)[1:]\n",
    "print(files)\n",
    "pos_data = []\n",
    "np.allow_pickle = True\n",
    "\n",
    "for i in range(6):\n",
    "    f = os.path.join(path, files[i+1])\n",
    "    #d = np.load(f, allow_pickle=True)\n",
    "    d = sparse.load_npz(f)#, allow_pickle=True)\n",
    "    pos_data.append(d)\n",
    "    print(f, d.shape)\n",
    "    \n",
    "f = os.path.join(path, files[0])\n",
    "neg = sparse.load_npz(f)\n",
    "print(f, neg.shape)\n",
    "#neg_data = \n",
    "#sparse_matrix = scipy.sparse.load_npz('/tmp/sparse_matrix.npz')"
   ]
  },
  {
   "cell_type": "code",
   "execution_count": 96,
   "id": "d1e61eb9-0ce9-4e39-ba8e-8bf64cc44cd9",
   "metadata": {},
   "outputs": [
    {
     "name": "stdout",
     "output_type": "stream",
     "text": [
      "0.8020349648575271\n",
      "0.8014006241912156\n",
      "0.8106873715460151\n",
      "0.8176270584354621\n",
      "0.8171195859024131\n",
      "0.8148740199436706\n"
     ]
    }
   ],
   "source": [
    "def gen_model(pos, neg):\n",
    "    pos_labels = np.ones(pos.shape[0])\n",
    "    neg_labels = np.zeros(neg.shape[0])\n",
    "    y = np.hstack((pos_labels, neg_labels))\n",
    "    x = sparse.vstack((pos, neg))\n",
    "    #print(x.shape)\n",
    "    #print(y.shape)\n",
    "    \n",
    "    X_train, X_test, y_train, y_test = train_test_split(x, y, test_size = 0.20, random_state = 0)\n",
    "    #print('Trainning size = ', X_train.shape)\n",
    "    #print('Testing size = ', X_test.shape)\n",
    "    MNBclf = MultinomialNB()\n",
    "    MNBclf.fit(X_train, y_train)\n",
    "    \n",
    "    \n",
    "    y_pred  =  MNBclf.predict(X_test)\n",
    "    count = 0\n",
    "    for i in range(len(y_pred)):\n",
    "        if(y_pred[i]== y_test[i]):\n",
    "            count+=1\n",
    "    print(count/len(y_pred))\n",
    "\n",
    "\n",
    "for pos in pos_data:\n",
    "    gen_model(pos, neg)"
   ]
  }
 ],
 "metadata": {
  "kernelspec": {
   "display_name": "Python 3 (ipykernel)",
   "language": "python",
   "name": "python3"
  },
  "language_info": {
   "codemirror_mode": {
    "name": "ipython",
    "version": 3
   },
   "file_extension": ".py",
   "mimetype": "text/x-python",
   "name": "python",
   "nbconvert_exporter": "python",
   "pygments_lexer": "ipython3",
   "version": "3.9.13"
  }
 },
 "nbformat": 4,
 "nbformat_minor": 5
}
