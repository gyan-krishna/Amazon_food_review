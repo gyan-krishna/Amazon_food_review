{
 "cells": [
  {
   "cell_type": "code",
   "execution_count": 15,
   "id": "ab73c969-e1e6-4632-84e7-a4388283caec",
   "metadata": {},
   "outputs": [],
   "source": [
    "import numpy as np\n",
    "from sklearn.naive_bayes import MultinomialNB\n",
    "from sklearn.feature_extraction.text import CountVectorizer\n",
    "import pandas as pd\n",
    "from collections import Counter\n",
    "from sklearn.model_selection import train_test_split\n",
    "from sklearn.feature_extraction.text import TfidfTransformer\n",
    "from scipy import sparse\n",
    "from numpy import savez_compressed\n",
    "from numpy import save\n",
    "import gc\n",
    "##gc.collect()"
   ]
  },
  {
   "cell_type": "code",
   "execution_count": 3,
   "id": "01608f4f-fe4f-45d5-8214-e63e359b96ff",
   "metadata": {},
   "outputs": [
    {
     "data": {
      "text/html": [
       "<div>\n",
       "<style scoped>\n",
       "    .dataframe tbody tr th:only-of-type {\n",
       "        vertical-align: middle;\n",
       "    }\n",
       "\n",
       "    .dataframe tbody tr th {\n",
       "        vertical-align: top;\n",
       "    }\n",
       "\n",
       "    .dataframe thead th {\n",
       "        text-align: right;\n",
       "    }\n",
       "</style>\n",
       "<table border=\"1\" class=\"dataframe\">\n",
       "  <thead>\n",
       "    <tr style=\"text-align: right;\">\n",
       "      <th></th>\n",
       "      <th>Unnamed: 0</th>\n",
       "      <th>Score</th>\n",
       "      <th>Summary</th>\n",
       "      <th>Text</th>\n",
       "      <th>Value</th>\n",
       "      <th>Preprocessed_review</th>\n",
       "    </tr>\n",
       "  </thead>\n",
       "  <tbody>\n",
       "    <tr>\n",
       "      <th>0</th>\n",
       "      <td>150528</td>\n",
       "      <td>4</td>\n",
       "      <td>Nice cadence, catchy rhymes</td>\n",
       "      <td>In June&lt;br /&gt;I saw a charming group&lt;br /&gt;of ro...</td>\n",
       "      <td>1</td>\n",
       "      <td>junei saw charming groupof roses beginto droop...</td>\n",
       "    </tr>\n",
       "    <tr>\n",
       "      <th>1</th>\n",
       "      <td>150506</td>\n",
       "      <td>4</td>\n",
       "      <td>chicken soup with rice months</td>\n",
       "      <td>This is a fun way for children to learn their ...</td>\n",
       "      <td>1</td>\n",
       "      <td>fun way children learn months year learn poems...</td>\n",
       "    </tr>\n",
       "    <tr>\n",
       "      <th>2</th>\n",
       "      <td>150505</td>\n",
       "      <td>4</td>\n",
       "      <td>Love the book, miss the hard cover version</td>\n",
       "      <td>I grew up reading these Sendak books, and watc...</td>\n",
       "      <td>1</td>\n",
       "      <td>grew reading sendak books watching really rosi...</td>\n",
       "    </tr>\n",
       "    <tr>\n",
       "      <th>3</th>\n",
       "      <td>150504</td>\n",
       "      <td>4</td>\n",
       "      <td>A classic</td>\n",
       "      <td>Get the movie or sound track and sing along wi...</td>\n",
       "      <td>1</td>\n",
       "      <td>get movie sound track sing along carol king gr...</td>\n",
       "    </tr>\n",
       "    <tr>\n",
       "      <th>4</th>\n",
       "      <td>150503</td>\n",
       "      <td>4</td>\n",
       "      <td>Chicken Soup with Rice</td>\n",
       "      <td>A very entertaining rhyming story--cleaver and...</td>\n",
       "      <td>1</td>\n",
       "      <td>entertaining rhyming story cleaver catchy illu...</td>\n",
       "    </tr>\n",
       "  </tbody>\n",
       "</table>\n",
       "</div>"
      ],
      "text/plain": [
       "   Unnamed: 0  Score                                     Summary  \\\n",
       "0      150528      4                 Nice cadence, catchy rhymes   \n",
       "1      150506      4               chicken soup with rice months   \n",
       "2      150505      4  Love the book, miss the hard cover version   \n",
       "3      150504      4                                   A classic   \n",
       "4      150503      4                      Chicken Soup with Rice   \n",
       "\n",
       "                                                Text  Value  \\\n",
       "0  In June<br />I saw a charming group<br />of ro...      1   \n",
       "1  This is a fun way for children to learn their ...      1   \n",
       "2  I grew up reading these Sendak books, and watc...      1   \n",
       "3  Get the movie or sound track and sing along wi...      1   \n",
       "4  A very entertaining rhyming story--cleaver and...      1   \n",
       "\n",
       "                                 Preprocessed_review  \n",
       "0  junei saw charming groupof roses beginto droop...  \n",
       "1  fun way children learn months year learn poems...  \n",
       "2  grew reading sendak books watching really rosi...  \n",
       "3  get movie sound track sing along carol king gr...  \n",
       "4  entertaining rhyming story cleaver catchy illu...  "
      ]
     },
     "execution_count": 3,
     "metadata": {},
     "output_type": "execute_result"
    }
   ],
   "source": [
    "df = pd.read_csv('Dataset/preprocessed.csv')\n",
    "df.head(5)"
   ]
  },
  {
   "cell_type": "markdown",
   "id": "dc2d873c-87c0-4ddc-abbf-97a4ff7efc8b",
   "metadata": {},
   "source": [
    "## Bag of Words Featurization"
   ]
  },
  {
   "cell_type": "code",
   "execution_count": 4,
   "id": "84ccb6ae-e8dd-4924-a484-b8c0fcc34235",
   "metadata": {},
   "outputs": [
    {
     "data": {
      "text/plain": [
       "CountVectorizer()"
      ]
     },
     "execution_count": 4,
     "metadata": {},
     "output_type": "execute_result"
    }
   ],
   "source": [
    "reviews = df['Preprocessed_review']\n",
    "count_vect=CountVectorizer()\n",
    "count_vect.fit(reviews.values.astype('U'))"
   ]
  },
  {
   "cell_type": "code",
   "execution_count": 5,
   "id": "1a52b8e3-ad47-4216-b3a5-bddc2141d4f5",
   "metadata": {},
   "outputs": [
    {
     "name": "stdout",
     "output_type": "stream",
     "text": [
      "The type of count vectorizer <class 'scipy.sparse._csr.csr_matrix'>\n",
      "The shape of text BOW vectorizer (395172, 122124)\n",
      "Number of unique words: 122124\n"
     ]
    }
   ],
   "source": [
    "count_text=count_vect.transform(reviews.values.astype('U'))\n",
    "print(\"The type of count vectorizer\",type(count_text))\n",
    "print(\"The shape of text BOW vectorizer\",count_text.get_shape())\n",
    "print(\"Number of unique words:\",count_text.get_shape()[1])"
   ]
  },
  {
   "cell_type": "code",
   "execution_count": 12,
   "id": "2f6fa68e-9c8b-4c5d-99eb-b0876568988d",
   "metadata": {},
   "outputs": [],
   "source": [
    "sparse.save_npz(\"BOW.npz\", count_text)\n",
    "#your_matrix_back = sparse.load_npz(\"yourmatrix.npz\")"
   ]
  },
  {
   "cell_type": "code",
   "execution_count": 16,
   "id": "a0a6baa3-ff17-49e9-a50e-b415bf20449b",
   "metadata": {},
   "outputs": [
    {
     "name": "stdout",
     "output_type": "stream",
     "text": [
      "(395172,)\n"
     ]
    }
   ],
   "source": [
    "save('labels.npy', np.array(df['Value']))\n",
    "print(np.array(df['Value']).shape)"
   ]
  },
  {
   "cell_type": "code",
   "execution_count": null,
   "id": "c427e606-9b7e-41dc-82d8-be85908629f4",
   "metadata": {},
   "outputs": [],
   "source": []
  }
 ],
 "metadata": {
  "kernelspec": {
   "display_name": "Python 3 (ipykernel)",
   "language": "python",
   "name": "python3"
  },
  "language_info": {
   "codemirror_mode": {
    "name": "ipython",
    "version": 3
   },
   "file_extension": ".py",
   "mimetype": "text/x-python",
   "name": "python",
   "nbconvert_exporter": "python",
   "pygments_lexer": "ipython3",
   "version": "3.9.13"
  }
 },
 "nbformat": 4,
 "nbformat_minor": 5
}
