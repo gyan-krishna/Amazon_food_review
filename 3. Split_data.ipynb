{
 "cells": [
  {
   "cell_type": "markdown",
   "id": "e1d518e1-839c-42af-9687-15b1e5a65cb6",
   "metadata": {
    "tags": []
   },
   "source": [
    "# Splitting data for one vs all technique \n",
    "#### NOTE:- dont re run this code!, seperating positive and negative data takes ~ 5 hrs to run"
   ]
  },
  {
   "cell_type": "code",
   "execution_count": 1,
   "id": "b72adf09-0fe1-4657-8dac-4d701113b553",
   "metadata": {},
   "outputs": [],
   "source": [
    "from scipy import sparse\n",
    "import numpy as np\n",
    "from numpy import savez_compressed\n",
    "from numpy import load\n",
    "from tqdm import tqdm\n",
    "import os\n",
    "import gc\n",
    "from sklearn import utils\n",
    "from scipy.sparse import csr_matrix"
   ]
  },
  {
   "cell_type": "code",
   "execution_count": 2,
   "id": "15244401-dbdc-4d2d-9b1f-2acefbc462b3",
   "metadata": {},
   "outputs": [],
   "source": [
    "source = 'TF-IDF.npz'\n",
    "path = r'TF_IDF'\n",
    "technique = \"TF_IDF\""
   ]
  },
  {
   "cell_type": "code",
   "execution_count": 17,
   "id": "16a6ddac-004e-4508-8636-9c743f361dbb",
   "metadata": {},
   "outputs": [],
   "source": [
    "source = 'BOW.npz'\n",
    "path = r'BOW'\n",
    "technique = \"BOW\"\n"
   ]
  },
  {
   "cell_type": "code",
   "execution_count": 3,
   "id": "6ecfe7ec-2b06-4f37-b30f-446f52c05953",
   "metadata": {},
   "outputs": [
    {
     "name": "stdout",
     "output_type": "stream",
     "text": [
      "<class 'scipy.sparse._csr.csr_matrix'>\n",
      "(395172, 3131007)\n"
     ]
    }
   ],
   "source": [
    "count_text = sparse.load_npz(source)\n",
    "print(type(count_text))\n",
    "print(count_text.shape)"
   ]
  },
  {
   "cell_type": "code",
   "execution_count": 4,
   "id": "01fdc5dc-d008-457f-a1bd-d6d6707e04fb",
   "metadata": {},
   "outputs": [
    {
     "name": "stdout",
     "output_type": "stream",
     "text": [
      "<class 'numpy.ndarray'>\n",
      "(395172,)\n"
     ]
    }
   ],
   "source": [
    "labels = load('labels.npy')\n",
    "labels = np.array(labels)\n",
    "print(type(labels))\n",
    "print(labels.shape)"
   ]
  },
  {
   "cell_type": "markdown",
   "id": "fa7eae2b-b296-46c8-b720-5142a2ad8a18",
   "metadata": {
    "tags": []
   },
   "source": [
    "## Splitting positive and negative Reviews"
   ]
  },
  {
   "cell_type": "markdown",
   "id": "0ff8f57d-c3d7-46e4-899a-e18499adf435",
   "metadata": {},
   "source": [
    "## Takes a ton of time to execute, need to find a better way to do this."
   ]
  },
  {
   "cell_type": "code",
   "execution_count": 5,
   "id": "bcd37ccf-ecf0-4aab-b99c-7ecd2fab6172",
   "metadata": {},
   "outputs": [
    {
     "name": "stderr",
     "output_type": "stream",
     "text": [
      "100%|██████████| 395172/395172 [22:37:06<00:00,  4.85it/s]         "
     ]
    },
    {
     "name": "stdout",
     "output_type": "stream",
     "text": [
      "(337810, 3131007)\n",
      "(57364, 3131007)\n"
     ]
    },
    {
     "name": "stderr",
     "output_type": "stream",
     "text": [
      "\n"
     ]
    }
   ],
   "source": [
    "#original\n",
    "n_samples = count_text.shape[0]\n",
    "\n",
    "x_positive = csr_matrix((0, 122124), dtype = np.int8).toarray()\n",
    "x_negative = csr_matrix((0, 122124), dtype = np.int8).toarray()\n",
    "\n",
    "x_positive = []\n",
    "x_negative = []\n",
    "\n",
    "pc = 0\n",
    "nc = 0\n",
    "pos_count=0\n",
    "for i in tqdm( range(n_samples) ):\n",
    "    pos_count+=1\n",
    "\n",
    "    if(labels[i] == 1):\n",
    "        x_positive =  sparse.vstack((x_positive, count_text[i]))\n",
    "    else:\n",
    "        x_negative =  sparse.vstack((x_negative, count_text[i]))        \n",
    "\n",
    "print(x_positive.shape)\n",
    "print(x_negative.shape)"
   ]
  },
  {
   "cell_type": "code",
   "execution_count": 6,
   "id": "99699b9e-1327-49cc-ace7-82b4ed133c48",
   "metadata": {},
   "outputs": [
    {
     "name": "stdout",
     "output_type": "stream",
     "text": [
      "number of positive reviews =  337809\n",
      "number of positive reviews =  57363\n",
      "337809 57363\n",
      "Ratio =  6\n",
      "count per split =  56301\n"
     ]
    }
   ],
   "source": [
    "\n",
    "n_pos = np.count_nonzero(labels)\n",
    "n_neg = len(labels)-n_pos\n",
    "print(\"number of positive reviews = \", n_pos)\n",
    "print(\"number of positive reviews = \", n_neg)\n",
    "\n",
    "print(n_pos, n_neg)\n",
    "\n",
    "ratio = round(x_positive.shape[0]/x_negative.shape[0])\n",
    "print(\"Ratio = \", ratio)\n",
    "c = x_positive.shape[0]//ratio\n",
    "print('count per split = ', c)"
   ]
  },
  {
   "cell_type": "markdown",
   "id": "d5d0b242-61e5-421b-8601-1c37253e5061",
   "metadata": {},
   "source": [
    "## Converting COO Matrix to CSR Matrix for slicing "
   ]
  },
  {
   "cell_type": "code",
   "execution_count": 7,
   "id": "ecaaf2f6-90be-4df5-86ad-e05ea6f78245",
   "metadata": {},
   "outputs": [],
   "source": [
    "x_positive = csr_matrix(x_positive)\n",
    "x_negative = csr_matrix(x_negative)"
   ]
  },
  {
   "cell_type": "code",
   "execution_count": 8,
   "id": "f7bb65eb-3bb8-4a65-9bd2-66501b5e1f19",
   "metadata": {},
   "outputs": [
    {
     "data": {
      "text/plain": [
       "(0, 3131007)"
      ]
     },
     "execution_count": 8,
     "metadata": {},
     "output_type": "execute_result"
    }
   ],
   "source": [
    "x_positive[i*c:c*(i+1)].shape"
   ]
  },
  {
   "cell_type": "code",
   "execution_count": 9,
   "id": "23239fe4-1a20-4d58-b778-3978e981c554",
   "metadata": {},
   "outputs": [
    {
     "name": "stdout",
     "output_type": "stream",
     "text": [
      "count per split =  56301\n"
     ]
    }
   ],
   "source": [
    "c = x_positive.shape[0]//ratio\n",
    "print('count per split = ', c)\n",
    "\n",
    "x_sets = [] \n",
    "for i in range(ratio):\n",
    "    #print(i*c, c*(i+1))\n",
    "    #x_sets.append(sparse.vstack((x_positive[i*c:c*(i+1)], x_negative)))\n",
    "    x_sets.append(x_positive[i*c:c*(i+1)])"
   ]
  },
  {
   "cell_type": "markdown",
   "id": "fad3b889-d683-4f7d-b818-a8dc2fe0c5f6",
   "metadata": {},
   "source": [
    "sparse_matrix = scipy.sparse.load_npz('/tmp/sparse_matrix.npz')"
   ]
  },
  {
   "cell_type": "markdown",
   "id": "1a0824b4-804f-426d-89ad-1142201930bb",
   "metadata": {},
   "source": [
    "array1, array2 = utils.shuffle(array1, array2)"
   ]
  },
  {
   "cell_type": "markdown",
   "id": "98a0945d-92ad-4e8d-89b3-12cfbd26a3b4",
   "metadata": {},
   "source": [
    "## Storing the datasets"
   ]
  },
  {
   "cell_type": "code",
   "execution_count": 10,
   "id": "754299ab-5463-429d-9a24-5aba7574dd04",
   "metadata": {},
   "outputs": [
    {
     "name": "stdout",
     "output_type": "stream",
     "text": [
      "TF_IDF\\TF_IDF_POS0.npz (56301, 3131007)\n",
      "TF_IDF\\TF_IDF_POS1.npz (56301, 3131007)\n",
      "TF_IDF\\TF_IDF_POS2.npz (56301, 3131007)\n",
      "TF_IDF\\TF_IDF_POS3.npz (56301, 3131007)\n",
      "TF_IDF\\TF_IDF_POS4.npz (56301, 3131007)\n",
      "TF_IDF\\TF_IDF_POS5.npz (56301, 3131007)\n",
      "TF_IDF\\TF_IDF_NEG.npz (57364, 3131007)\n"
     ]
    }
   ],
   "source": [
    "for i in range(len(x_sets)):\n",
    "    f_path = os.path.join(path, technique+'_POS'+str(i)+'.npz')\n",
    "    print(f_path,x_sets[i].shape)\n",
    "    sparse.save_npz(f_path, x_sets[i])\n",
    "    \n",
    "f_path = os.path.join(path, technique+'_NEG'+'.npz')\n",
    "print(f_path, x_negative.shape)\n",
    "sparse.save_npz(f_path, x_negative)"
   ]
  }
 ],
 "metadata": {
  "kernelspec": {
   "display_name": "Python 3 (ipykernel)",
   "language": "python",
   "name": "python3"
  },
  "language_info": {
   "codemirror_mode": {
    "name": "ipython",
    "version": 3
   },
   "file_extension": ".py",
   "mimetype": "text/x-python",
   "name": "python",
   "nbconvert_exporter": "python",
   "pygments_lexer": "ipython3",
   "version": "3.9.12"
  }
 },
 "nbformat": 4,
 "nbformat_minor": 5
}
