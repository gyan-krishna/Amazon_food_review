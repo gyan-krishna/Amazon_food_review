{
 "cells": [
  {
   "cell_type": "code",
   "execution_count": 17,
   "id": "ab73c969-e1e6-4632-84e7-a4388283caec",
   "metadata": {},
   "outputs": [],
   "source": [
    "import numpy as np\n",
    "import pandas as pd\n",
    "import os\n",
    "from sklearn.model_selection import train_test_split\n",
    "from scipy import sparse\n",
    "from scipy.sparse import csr_matrix\n",
    "from sklearn.linear_model import  LogisticRegression\n",
    "from sklearn.naive_bayes import MultinomialNB\n",
    "from sklearn import svm\n",
    "from sklearn import metrics\n",
    "import matplotlib.pyplot as plt \n",
    "import pickle"
   ]
  },
  {
   "cell_type": "markdown",
   "id": "f3f7d4ae-a499-4189-9d0e-21a4087204a5",
   "metadata": {},
   "source": [
    "## TODO:-\n",
    "1. fetch splitted data \n",
    "2. train n models\n",
    "3. get accuracy pointers\n",
    "    - accuracy\n",
    "    - precision\n",
    "    - fscore\n",
    "    - recall  \n",
    "    --- done till here----\n",
    "    - roc curve - look it up ?\n"
   ]
  },
  {
   "cell_type": "markdown",
   "id": "9cdb1a48-4b1e-48cb-ac50-a8a08d784baf",
   "metadata": {
    "tags": []
   },
   "source": [
    "## Load Data"
   ]
  },
  {
   "cell_type": "code",
   "execution_count": 18,
   "id": "67cc390c-ea86-43f2-aabb-be401751d498",
   "metadata": {},
   "outputs": [
    {
     "name": "stdout",
     "output_type": "stream",
     "text": [
      "['TF_IDF_NEG.npz', 'TF_IDF_POS0.npz', 'TF_IDF_POS1.npz', 'TF_IDF_POS2.npz', 'TF_IDF_POS3.npz', 'TF_IDF_POS4.npz', 'TF_IDF_POS5.npz', 'vectorizer.pickle']\n",
      "NEG ->  TF_IDF\\TF_IDF_NEG.npz (57364, 3131007)\n",
      "POS ->  TF_IDF\\TF_IDF_POS0.npz (56301, 3131007)\n",
      "POS ->  TF_IDF\\TF_IDF_POS1.npz (56301, 3131007)\n",
      "POS ->  TF_IDF\\TF_IDF_POS2.npz (56301, 3131007)\n",
      "POS ->  TF_IDF\\TF_IDF_POS3.npz (56301, 3131007)\n",
      "POS ->  TF_IDF\\TF_IDF_POS4.npz (56301, 3131007)\n",
      "POS ->  TF_IDF\\TF_IDF_POS5.npz (56301, 3131007)\n"
     ]
    }
   ],
   "source": [
    "path = r'TF_IDF'\n",
    "#path = r'BOW'\n",
    "\n",
    "files = os.listdir(path)\n",
    "print(files)\n",
    "pos_data = []\n",
    "np.allow_pickle = True\n",
    "\n",
    "for i in range(len(files)):\n",
    "    f = os.path.join(path, files[i])\n",
    "    \n",
    "    if('pickle' in f or 'ipynb' in f):\n",
    "        continue\n",
    "        \n",
    "    if('NEG' in f):\n",
    "        d = sparse.load_npz(f)\n",
    "        neg = d\n",
    "        print(\"NEG -> \",f, neg.shape)\n",
    "    else:\n",
    "        d = sparse.load_npz(f)\n",
    "        pos_data.append(d)\n",
    "        print(\"POS -> \",f, d.shape)"
   ]
  },
  {
   "cell_type": "markdown",
   "id": "89473267-adac-47ad-a1b4-e8c34a28f794",
   "metadata": {},
   "source": [
    "## Models "
   ]
  },
  {
   "cell_type": "markdown",
   "id": "282ee276-49de-4be8-ab2f-6fd61f55afaf",
   "metadata": {},
   "source": [
    "### Naive Bayes Classifier "
   ]
  },
  {
   "cell_type": "code",
   "execution_count": 19,
   "id": "d1e61eb9-0ce9-4e39-ba8e-8bf64cc44cd9",
   "metadata": {},
   "outputs": [],
   "source": [
    "def gen_nbc_model(X_train, y_train):\n",
    "    MNBclf = MultinomialNB()\n",
    "    MNBclf.fit(X_train, y_train)\n",
    "    return MNBclf"
   ]
  },
  {
   "cell_type": "markdown",
   "id": "495724ad-d418-4316-ab08-3d78ed8ca5dd",
   "metadata": {},
   "source": [
    "### Support Vector Machine"
   ]
  },
  {
   "cell_type": "code",
   "execution_count": 20,
   "id": "026aba52-3e71-49c4-bce2-27ba99a8c4f4",
   "metadata": {},
   "outputs": [],
   "source": [
    "def gen_svm_model(X_train, y_train):\n",
    "    SVMclf = svm.LinearSVC(max_iter=1000)\n",
    "    #SVMclf = svm.SVC(kernel='linear',verbose=1) # Linear Kernel\n",
    "    SVMclf.fit(X_train, y_train)\n",
    "\n",
    "    print('*', end = \"\")\n",
    "    return SVMclf"
   ]
  },
  {
   "cell_type": "markdown",
   "id": "fbbf481f-d0c2-407f-bd5d-ce229f9810d8",
   "metadata": {},
   "source": [
    "### Logistic Regression"
   ]
  },
  {
   "cell_type": "code",
   "execution_count": null,
   "id": "4b0c4607-624c-4219-9b03-62a727719522",
   "metadata": {},
   "outputs": [],
   "source": [
    "def logistic_regression(X_train, y_train):\n",
    "    logreg = LogisticRegression(max_iter=1000)\n",
    "    logreg.fit(X_train,y_train)\n",
    "    return logreg"
   ]
  },
  {
   "cell_type": "markdown",
   "id": "5a93fdf0-87a7-4f6d-bf2c-f115cff21d75",
   "metadata": {
    "tags": []
   },
   "source": [
    "### Random Forest"
   ]
  },
  {
   "cell_type": "code",
   "execution_count": null,
   "id": "da491264-3af2-43ab-800f-fb0076435845",
   "metadata": {},
   "outputs": [],
   "source": []
  },
  {
   "cell_type": "markdown",
   "id": "12e36319-3716-4853-9bbf-13aa8d0423a6",
   "metadata": {},
   "source": [
    "## Metrics Evaluation "
   ]
  },
  {
   "cell_type": "code",
   "execution_count": 22,
   "id": "0b25827a-cdb2-4e19-b143-25659b79fc62",
   "metadata": {},
   "outputs": [],
   "source": [
    "def evaluate_metrics(model_name,models,X_test, y_test):\n",
    "    df = pd.DataFrame(columns=['Model no', 'Accuracy', 'Precision', 'f1 score', 'Recall'])\n",
    "    print('Scores for : '+model_name)\n",
    "    for i, model in enumerate(models):\n",
    "        y_pred  =  model.predict(X_test)\n",
    "        accuracy = metrics.accuracy_score(y_test, y_pred)\n",
    "        prescision = metrics.precision_score(y_test, y_pred)\n",
    "        f1 = metrics.f1_score(y_test, y_pred)\n",
    "        recall = metrics.recall_score(y_test, y_pred)\n",
    "        \n",
    "        #data  = {'Accuracy':accuracy, 'Precision':prescision, 'f1 score':f1, 'Recall':recall}\n",
    "        #df = pd.DataFrame(data)\n",
    "        model_label = model_name+\"-\"+str(i)\n",
    "        df.loc[len(df.index)] = [model_label, accuracy,prescision,f1,recall]\n",
    "    #plt.plot(y = df['Accuracy'], x = range(6))\n",
    "    df.plot(ylim=(0,1), style='.-', figsize=[10,3])\n",
    "    a = df['Accuracy'].mean()\n",
    "    b = df['Precision'].mean()\n",
    "    c = df['f1 score'].mean()\n",
    "    d = df['Recall'].mean()\n",
    "    df.loc[len(df.index)] = ['Avg', accuracy,prescision,f1,recall]\n",
    "    \n",
    "    print(df.head(10))"
   ]
  },
  {
   "cell_type": "markdown",
   "id": "525f3d21-04e0-4fa4-ae43-275926568f1a",
   "metadata": {},
   "source": [
    "## Model trainning and testing"
   ]
  },
  {
   "cell_type": "markdown",
   "id": "076b5acf-527d-4735-9134-9fc57f601001",
   "metadata": {},
   "source": [
    "### Naive Bayes one vs all testing"
   ]
  },
  {
   "cell_type": "code",
   "execution_count": 23,
   "id": "d175b505-727e-4ca9-9c8a-3ccf581f3078",
   "metadata": {},
   "outputs": [
    {
     "name": "stdout",
     "output_type": "stream",
     "text": [
      "Scores for : TF-IDF-NBC\n",
      "       Model no  Accuracy  Precision  f1 score    Recall\n",
      "0  TF-IDF-NBC-0  0.773853   0.886303  0.730541  0.621345\n",
      "1  TF-IDF-NBC-1  0.779528   0.884577  0.740068  0.636145\n",
      "2  TF-IDF-NBC-2  0.812299   0.886700  0.788773  0.710325\n",
      "3  TF-IDF-NBC-3  0.820305   0.869750  0.804161  0.747771\n",
      "4  TF-IDF-NBC-4  0.835657   0.874825  0.823724  0.778263\n",
      "5  TF-IDF-NBC-5  0.863766   0.845519  0.865143  0.885699\n",
      "6           Avg  0.863766   0.845519  0.865143  0.885699\n"
     ]
    },
    {
     "data": {
      "image/png": "[encoded data removed]",
      "text/plain": [
       "<Figure size 1000x300 with 1 Axes>"
      ]
     },
     "metadata": {},
     "output_type": "display_data"
    }
   ],
   "source": [
    "nbc_bow_models = []\n",
    "\n",
    "for i, pos in enumerate(pos_data):\n",
    "    #print(i)\n",
    "    pos_labels = np.ones(pos.shape[0])\n",
    "    neg_labels = np.zeros(neg.shape[0])\n",
    "    y = np.hstack((pos_labels, neg_labels))\n",
    "    x = sparse.vstack((pos, neg))\n",
    "    X_train, X_test, y_train, y_test = train_test_split(x, y, test_size = 0.20, random_state = 50)\n",
    "    \n",
    "    model = gen_nbc_model(X_train, y_train)\n",
    "    nbc_bow_models.append(model)\n",
    "    mod_file = r'Models/NBC/NBC_'+str(i)+'.model'\n",
    "    pickle.dump(model, open(mod_file, 'wb'))\n",
    "\n",
    "evaluate_metrics(\"TF-IDF-NBC\", nbc_bow_models, X_test, y_test)"
   ]
  },
  {
   "cell_type": "code",
   "execution_count": 24,
   "id": "ab7be723-4750-48a4-b187-95452fb15cb8",
   "metadata": {},
   "outputs": [
    {
     "data": {
      "text/plain": [
       "scipy.sparse._csr.csr_matrix"
      ]
     },
     "execution_count": 24,
     "metadata": {},
     "output_type": "execute_result"
    }
   ],
   "source": [
    "type(X_test[0])"
   ]
  },
  {
   "cell_type": "markdown",
   "id": "10886bf1-b32a-49ae-ae61-4dc4cc3510d2",
   "metadata": {},
   "source": [
    "### Logistic regression model one vs all"
   ]
  },
  {
   "cell_type": "code",
   "execution_count": 26,
   "id": "f9510cc9-16c2-4e3f-85fc-3d6fc31f1694",
   "metadata": {},
   "outputs": [
    {
     "name": "stderr",
     "output_type": "stream",
     "text": [
      "C:\\Users\\gyank\\anaconda3\\lib\\site-packages\\sklearn\\linear_model\\_logistic.py:814: ConvergenceWarning: lbfgs failed to converge (status=1):\n",
      "STOP: TOTAL NO. of ITERATIONS REACHED LIMIT.\n",
      "\n",
      "Increase the number of iterations (max_iter) or scale the data as shown in:\n",
      "    https://scikit-learn.org/stable/modules/preprocessing.html\n",
      "Please also refer to the documentation for alternative solver options:\n",
      "    https://scikit-learn.org/stable/modules/linear_model.html#logistic-regression\n",
      "  n_iter_i = _check_optimize_result(\n",
      "C:\\Users\\gyank\\anaconda3\\lib\\site-packages\\sklearn\\linear_model\\_logistic.py:814: ConvergenceWarning: lbfgs failed to converge (status=1):\n",
      "STOP: TOTAL NO. of ITERATIONS REACHED LIMIT.\n",
      "\n",
      "Increase the number of iterations (max_iter) or scale the data as shown in:\n",
      "    https://scikit-learn.org/stable/modules/preprocessing.html\n",
      "Please also refer to the documentation for alternative solver options:\n",
      "    https://scikit-learn.org/stable/modules/linear_model.html#logistic-regression\n",
      "  n_iter_i = _check_optimize_result(\n",
      "C:\\Users\\gyank\\anaconda3\\lib\\site-packages\\sklearn\\linear_model\\_logistic.py:814: ConvergenceWarning: lbfgs failed to converge (status=1):\n",
      "STOP: TOTAL NO. of ITERATIONS REACHED LIMIT.\n",
      "\n",
      "Increase the number of iterations (max_iter) or scale the data as shown in:\n",
      "    https://scikit-learn.org/stable/modules/preprocessing.html\n",
      "Please also refer to the documentation for alternative solver options:\n",
      "    https://scikit-learn.org/stable/modules/linear_model.html#logistic-regression\n",
      "  n_iter_i = _check_optimize_result(\n",
      "C:\\Users\\gyank\\anaconda3\\lib\\site-packages\\sklearn\\linear_model\\_logistic.py:814: ConvergenceWarning: lbfgs failed to converge (status=1):\n",
      "STOP: TOTAL NO. of ITERATIONS REACHED LIMIT.\n",
      "\n",
      "Increase the number of iterations (max_iter) or scale the data as shown in:\n",
      "    https://scikit-learn.org/stable/modules/preprocessing.html\n",
      "Please also refer to the documentation for alternative solver options:\n",
      "    https://scikit-learn.org/stable/modules/linear_model.html#logistic-regression\n",
      "  n_iter_i = _check_optimize_result(\n",
      "C:\\Users\\gyank\\anaconda3\\lib\\site-packages\\sklearn\\linear_model\\_logistic.py:814: ConvergenceWarning: lbfgs failed to converge (status=1):\n",
      "STOP: TOTAL NO. of ITERATIONS REACHED LIMIT.\n",
      "\n",
      "Increase the number of iterations (max_iter) or scale the data as shown in:\n",
      "    https://scikit-learn.org/stable/modules/preprocessing.html\n",
      "Please also refer to the documentation for alternative solver options:\n",
      "    https://scikit-learn.org/stable/modules/linear_model.html#logistic-regression\n",
      "  n_iter_i = _check_optimize_result(\n",
      "C:\\Users\\gyank\\anaconda3\\lib\\site-packages\\sklearn\\linear_model\\_logistic.py:814: ConvergenceWarning: lbfgs failed to converge (status=1):\n",
      "STOP: TOTAL NO. of ITERATIONS REACHED LIMIT.\n",
      "\n",
      "Increase the number of iterations (max_iter) or scale the data as shown in:\n",
      "    https://scikit-learn.org/stable/modules/preprocessing.html\n",
      "Please also refer to the documentation for alternative solver options:\n",
      "    https://scikit-learn.org/stable/modules/linear_model.html#logistic-regression\n",
      "  n_iter_i = _check_optimize_result(\n"
     ]
    },
    {
     "name": "stdout",
     "output_type": "stream",
     "text": [
      "Scores for : TF-IDF-LR\n",
      "      Model no  Accuracy  Precision  f1 score    Recall\n",
      "0  TF-IDF-LR-0  0.844235   0.880208  0.832664  0.789993\n",
      "1  TF-IDF-LR-1  0.848194   0.879024  0.838065  0.800753\n",
      "2  TF-IDF-LR-2  0.857916   0.878753  0.850532  0.824067\n",
      "3  TF-IDF-LR-3  0.856684   0.879665  0.848803  0.820032\n",
      "4  TF-IDF-LR-4  0.866978   0.880168  0.861551  0.843705\n",
      "5  TF-IDF-LR-5  0.896846   0.892714  0.895149  0.897597\n",
      "6          Avg  0.896846   0.892714  0.895149  0.897597\n"
     ]
    },
    {
     "data": {
      "image/png": "[encoded data removed]",
      "text/plain": [
       "<Figure size 1000x300 with 1 Axes>"
      ]
     },
     "metadata": {},
     "output_type": "display_data"
    }
   ],
   "source": [
    "lr_bow_models = []\n",
    "for i, pos in enumerate(pos_data):\n",
    "    #print(i)\n",
    "    pos_labels = np.ones(pos.shape[0])\n",
    "    neg_labels = np.zeros(neg.shape[0])\n",
    "    y = np.hstack((pos_labels, neg_labels))\n",
    "    x = sparse.vstack((pos, neg))\n",
    "    X_train, X_test, y_train, y_test = train_test_split(x, y, test_size = 0.20, random_state = 0)\n",
    "    \n",
    "    \n",
    "    model = logistic_regression(X_train, y_train)\n",
    "    lr_bow_models.append(model)\n",
    "    mod_file = r'Models/LR/LR_'+str(i)+'.model'\n",
    "    pickle.dump(model, open(mod_file, 'wb'))\n",
    "    \n",
    "evaluate_metrics(\"TF-IDF-LR\", lr_bow_models, X_test, y_test)"
   ]
  },
  {
   "cell_type": "markdown",
   "id": "d33435fc-8ae9-457a-a881-5957e9a29f2b",
   "metadata": {},
   "source": [
    "### SVM model one vs all"
   ]
  },
  {
   "cell_type": "code",
   "execution_count": null,
   "id": "03e5173c-1800-4af5-967d-f8bb28379b02",
   "metadata": {},
   "outputs": [],
   "source": [
    "svm_bow_models = []\n",
    "for i, pos in enumerate(pos_data):\n",
    "    #print(i)\n",
    "    pos_labels = np.ones(pos.shape[0])\n",
    "    neg_labels = np.zeros(neg.shape[0])\n",
    "    y = np.hstack((pos_labels, neg_labels))\n",
    "    x = sparse.vstack((pos, neg))\n",
    "    X_train, X_test, y_train, y_test = train_test_split(x, y, test_size = 0.20, random_state = 0)\n",
    "    \n",
    "    \n",
    "    model = gen_svm_model(X_train, y_train)\n",
    "    lr_bow_models.append(model)\n",
    "    mod_file = r'Models/SVM/SVM_'+str(i)+'.model'\n",
    "    pickle.dump(model, open(mod_file, 'wb'))\n"
   ]
  },
  {
   "cell_type": "code",
   "execution_count": null,
   "id": "d1b9970d-8c3e-4c1e-b9b2-cee129ecce4f",
   "metadata": {},
   "outputs": [],
   "source": [
    "print(X_train[0].shape)"
   ]
  },
  {
   "cell_type": "code",
   "execution_count": null,
   "id": "e9a935a4-6984-4061-bfd0-9047309db631",
   "metadata": {},
   "outputs": [],
   "source": [
    "evaluate_metrics(\"TF-IDF-SVM\", svm_bow_models, X_test, y_test)"
   ]
  }
 ],
 "metadata": {
  "kernelspec": {
   "display_name": "Python 3 (ipykernel)",
   "language": "python",
   "name": "python3"
  },
  "language_info": {
   "codemirror_mode": {
    "name": "ipython",
    "version": 3
   },
   "file_extension": ".py",
   "mimetype": "text/x-python",
   "name": "python",
   "nbconvert_exporter": "python",
   "pygments_lexer": "ipython3",
   "version": "3.9.13"
  }
 },
 "nbformat": 4,
 "nbformat_minor": 5
}
