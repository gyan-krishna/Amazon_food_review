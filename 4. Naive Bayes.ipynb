{
 "cells": [
  {
   "cell_type": "code",
   "execution_count": 1,
   "id": "ab73c969-e1e6-4632-84e7-a4388283caec",
   "metadata": {},
   "outputs": [],
   "source": [
    "import numpy as np\n",
    "import pandas as pd\n",
    "import os\n",
    "from sklearn.model_selection import train_test_split\n",
    "from scipy import sparse\n",
    "from scipy.sparse import csr_matrix\n",
    "from sklearn.linear_model import  LogisticRegression\n",
    "from sklearn.naive_bayes import MultinomialNB\n",
    "from sklearn import svm\n",
    "from sklearn import metrics\n",
    "import matplotlib.pyplot as plt \n",
    "import pickle"
   ]
  },
  {
   "cell_type": "markdown",
   "id": "f3f7d4ae-a499-4189-9d0e-21a4087204a5",
   "metadata": {},
   "source": [
    "## TODO:-\n",
    "1. fetch splitted data \n",
    "2. train n models\n",
    "3. get accuracy pointers\n",
    "    - accuracy\n",
    "    - precision\n",
    "    - fscore\n",
    "    - recall  \n",
    "    --- done till here----\n",
    "    - roc curve - look it up ?\n"
   ]
  },
  {
   "cell_type": "markdown",
   "id": "9cdb1a48-4b1e-48cb-ac50-a8a08d784baf",
   "metadata": {
    "tags": []
   },
   "source": [
    "## Load Data"
   ]
  },
  {
   "cell_type": "code",
   "execution_count": 2,
   "id": "67cc390c-ea86-43f2-aabb-be401751d498",
   "metadata": {},
   "outputs": [
    {
     "name": "stdout",
     "output_type": "stream",
     "text": [
      "['TF_IDF_NEG.npz', 'TF_IDF_POS0.npz', 'TF_IDF_POS1.npz', 'TF_IDF_POS2.npz', 'TF_IDF_POS3.npz', 'TF_IDF_POS4.npz', 'TF_IDF_POS5.npz', 'vectorizer.pickle']\n",
      "NEG ->  TF_IDF\\TF_IDF_NEG.npz (57364, 91001)\n",
      "POS ->  TF_IDF\\TF_IDF_POS0.npz (56301, 91001)\n",
      "POS ->  TF_IDF\\TF_IDF_POS1.npz (56301, 91001)\n",
      "POS ->  TF_IDF\\TF_IDF_POS2.npz (56301, 91001)\n",
      "POS ->  TF_IDF\\TF_IDF_POS3.npz (56301, 91001)\n",
      "POS ->  TF_IDF\\TF_IDF_POS4.npz (56301, 91001)\n",
      "POS ->  TF_IDF\\TF_IDF_POS5.npz (56301, 91001)\n"
     ]
    }
   ],
   "source": [
    "path = r'TF_IDF'\n",
    "#path = r'BOW'\n",
    "\n",
    "files = os.listdir(path)\n",
    "print(files)\n",
    "pos_data = []\n",
    "np.allow_pickle = True\n",
    "\n",
    "for i in range(len(files)):\n",
    "    f = os.path.join(path, files[i])\n",
    "    \n",
    "    if('pickle' in f or 'ipynb' in f):\n",
    "        continue\n",
    "        \n",
    "    if('NEG' in f):\n",
    "        d = sparse.load_npz(f)\n",
    "        neg = d\n",
    "        print(\"NEG -> \",f, neg.shape)\n",
    "    else:\n",
    "        d = sparse.load_npz(f)\n",
    "        pos_data.append(d)\n",
    "        print(\"POS -> \",f, d.shape)"
   ]
  },
  {
   "cell_type": "markdown",
   "id": "89473267-adac-47ad-a1b4-e8c34a28f794",
   "metadata": {},
   "source": [
    "## Models "
   ]
  },
  {
   "cell_type": "markdown",
   "id": "282ee276-49de-4be8-ab2f-6fd61f55afaf",
   "metadata": {},
   "source": [
    "### Naive Bayes Classifier "
   ]
  },
  {
   "cell_type": "code",
   "execution_count": 3,
   "id": "d1e61eb9-0ce9-4e39-ba8e-8bf64cc44cd9",
   "metadata": {},
   "outputs": [],
   "source": [
    "def gen_nbc_model(X_train, y_train):\n",
    "    MNBclf = MultinomialNB()\n",
    "    MNBclf.fit(X_train, y_train)\n",
    "    return MNBclf"
   ]
  },
  {
   "cell_type": "markdown",
   "id": "495724ad-d418-4316-ab08-3d78ed8ca5dd",
   "metadata": {},
   "source": [
    "### Support Vector Machine"
   ]
  },
  {
   "cell_type": "code",
   "execution_count": 10,
   "id": "026aba52-3e71-49c4-bce2-27ba99a8c4f4",
   "metadata": {},
   "outputs": [],
   "source": [
    "def gen_svm_model(X_train, y_train):\n",
    "    SVMclf = svm.LinearSVC(max_iter=1000)\n",
    "    #SVMclf = svm.SVC(kernel='linear',verbose=1) # Linear Kernel\n",
    "    SVMclf.fit(X_train, y_train)\n",
    "\n",
    "    print('*', end = \"\")\n",
    "    return SVMclf"
   ]
  },
  {
   "cell_type": "markdown",
   "id": "fbbf481f-d0c2-407f-bd5d-ce229f9810d8",
   "metadata": {},
   "source": [
    "### Logistic Regression"
   ]
  },
  {
   "cell_type": "code",
   "execution_count": 5,
   "id": "4b0c4607-624c-4219-9b03-62a727719522",
   "metadata": {},
   "outputs": [],
   "source": [
    "def logistic_regression(X_train, y_train):\n",
    "    logreg = LogisticRegression(max_iter=100)\n",
    "    logreg.fit(X_train,y_train)\n",
    "    return logreg"
   ]
  },
  {
   "cell_type": "markdown",
   "id": "5a93fdf0-87a7-4f6d-bf2c-f115cff21d75",
   "metadata": {
    "tags": []
   },
   "source": [
    "### Random Forest"
   ]
  },
  {
   "cell_type": "code",
   "execution_count": null,
   "id": "da491264-3af2-43ab-800f-fb0076435845",
   "metadata": {},
   "outputs": [],
   "source": []
  },
  {
   "cell_type": "markdown",
   "id": "12e36319-3716-4853-9bbf-13aa8d0423a6",
   "metadata": {},
   "source": [
    "## Metrics Evaluation "
   ]
  },
  {
   "cell_type": "code",
   "execution_count": 17,
   "id": "0b25827a-cdb2-4e19-b143-25659b79fc62",
   "metadata": {},
   "outputs": [],
   "source": [
    "def evaluate_metrics(model_name,models,X_test, y_test):\n",
    "    df = pd.DataFrame(columns=['Model no', 'Accuracy', 'Precision', 'f1 score', 'Recall'])\n",
    "    print('Scores for : '+model_name)\n",
    "    for i, model in enumerate(models):\n",
    "        y_pred  =  model.predict(X_test)\n",
    "        accuracy = metrics.accuracy_score(y_test, y_pred)\n",
    "        prescision = metrics.precision_score(y_test, y_pred)\n",
    "        f1 = metrics.f1_score(y_test, y_pred)\n",
    "        recall = metrics.recall_score(y_test, y_pred)\n",
    "        \n",
    "        #data  = {'Accuracy':accuracy, 'Precision':prescision, 'f1 score':f1, 'Recall':recall}\n",
    "        #df = pd.DataFrame(data)\n",
    "        model_label = model_name+\"-\"+str(i)\n",
    "        df.loc[len(df.index)] = [model_label, accuracy,prescision,f1,recall]\n",
    "    #plt.plot(y = df['Accuracy'], x = range(6))\n",
    "    df.plot(ylim=(0,1), style='.-', figsize=[10,3])\n",
    "    a = df['Accuracy'].mean()\n",
    "    b = df['Precision'].mean()\n",
    "    c = df['f1 score'].mean()\n",
    "    d = df['Recall'].mean()\n",
    "    df.loc[len(df.index)] = ['Avg', accuracy,prescision,f1,recall]\n",
    "    \n",
    "    print(df.head(10))"
   ]
  },
  {
   "cell_type": "markdown",
   "id": "525f3d21-04e0-4fa4-ae43-275926568f1a",
   "metadata": {},
   "source": [
    "## Model trainning and testing"
   ]
  },
  {
   "cell_type": "markdown",
   "id": "076b5acf-527d-4735-9134-9fc57f601001",
   "metadata": {},
   "source": [
    "### Naive Bayes one vs all testing"
   ]
  },
  {
   "cell_type": "code",
   "execution_count": 18,
   "id": "d175b505-727e-4ca9-9c8a-3ccf581f3078",
   "metadata": {},
   "outputs": [
    {
     "name": "stdout",
     "output_type": "stream",
     "text": [
      "Scores for : TF-IDF-NBC\n",
      "       Model no  Accuracy  Precision  f1 score    Recall\n",
      "0  TF-IDF-NBC-0  0.756785   0.831217  0.720772  0.636234\n",
      "1  TF-IDF-NBC-1  0.763955   0.833828  0.731405  0.651391\n",
      "2  TF-IDF-NBC-2  0.788545   0.833489  0.769172  0.714069\n",
      "3  TF-IDF-NBC-3  0.789953   0.825467  0.773815  0.728245\n",
      "4  TF-IDF-NBC-4  0.803941   0.827630  0.792996  0.761145\n",
      "5  TF-IDF-NBC-5  0.838737   0.832775  0.837500  0.842279\n",
      "6           Avg  0.838737   0.832775  0.837500  0.842279\n"
     ]
    },
    {
     "data": {
      "image/png": "[encoded data removed]",
      "text/plain": [
       "<Figure size 1000x300 with 1 Axes>"
      ]
     },
     "metadata": {},
     "output_type": "display_data"
    }
   ],
   "source": [
    "nbc_bow_models = []\n",
    "\n",
    "for i, pos in enumerate(pos_data):\n",
    "    #print(i)\n",
    "    pos_labels = np.ones(pos.shape[0])\n",
    "    neg_labels = np.zeros(neg.shape[0])\n",
    "    y = np.hstack((pos_labels, neg_labels))\n",
    "    x = sparse.vstack((pos, neg))\n",
    "    X_train, X_test, y_train, y_test = train_test_split(x, y, test_size = 0.20, random_state = 50)\n",
    "    \n",
    "    model = gen_nbc_model(X_train, y_train)\n",
    "    nbc_bow_models.append(model)\n",
    "    mod_file = r'Models/NBC/NBC_'+str(i)+'.model'\n",
    "    pickle.dump(model, open(mod_file, 'wb'))\n",
    "\n",
    "evaluate_metrics(\"TF-IDF-NBC\", nbc_bow_models, X_test, y_test)"
   ]
  },
  {
   "cell_type": "markdown",
   "id": "10886bf1-b32a-49ae-ae61-4dc4cc3510d2",
   "metadata": {},
   "source": [
    "### Logistic regression model one vs all"
   ]
  },
  {
   "cell_type": "code",
   "execution_count": 8,
   "id": "f9510cc9-16c2-4e3f-85fc-3d6fc31f1694",
   "metadata": {},
   "outputs": [
    {
     "name": "stderr",
     "output_type": "stream",
     "text": [
      "C:\\Users\\gyank\\anaconda3\\lib\\site-packages\\sklearn\\linear_model\\_logistic.py:814: ConvergenceWarning: lbfgs failed to converge (status=1):\n",
      "STOP: TOTAL NO. of ITERATIONS REACHED LIMIT.\n",
      "\n",
      "Increase the number of iterations (max_iter) or scale the data as shown in:\n",
      "    https://scikit-learn.org/stable/modules/preprocessing.html\n",
      "Please also refer to the documentation for alternative solver options:\n",
      "    https://scikit-learn.org/stable/modules/linear_model.html#logistic-regression\n",
      "  n_iter_i = _check_optimize_result(\n",
      "C:\\Users\\gyank\\anaconda3\\lib\\site-packages\\sklearn\\linear_model\\_logistic.py:814: ConvergenceWarning: lbfgs failed to converge (status=1):\n",
      "STOP: TOTAL NO. of ITERATIONS REACHED LIMIT.\n",
      "\n",
      "Increase the number of iterations (max_iter) or scale the data as shown in:\n",
      "    https://scikit-learn.org/stable/modules/preprocessing.html\n",
      "Please also refer to the documentation for alternative solver options:\n",
      "    https://scikit-learn.org/stable/modules/linear_model.html#logistic-regression\n",
      "  n_iter_i = _check_optimize_result(\n",
      "C:\\Users\\gyank\\anaconda3\\lib\\site-packages\\sklearn\\linear_model\\_logistic.py:814: ConvergenceWarning: lbfgs failed to converge (status=1):\n",
      "STOP: TOTAL NO. of ITERATIONS REACHED LIMIT.\n",
      "\n",
      "Increase the number of iterations (max_iter) or scale the data as shown in:\n",
      "    https://scikit-learn.org/stable/modules/preprocessing.html\n",
      "Please also refer to the documentation for alternative solver options:\n",
      "    https://scikit-learn.org/stable/modules/linear_model.html#logistic-regression\n",
      "  n_iter_i = _check_optimize_result(\n",
      "C:\\Users\\gyank\\anaconda3\\lib\\site-packages\\sklearn\\linear_model\\_logistic.py:814: ConvergenceWarning: lbfgs failed to converge (status=1):\n",
      "STOP: TOTAL NO. of ITERATIONS REACHED LIMIT.\n",
      "\n",
      "Increase the number of iterations (max_iter) or scale the data as shown in:\n",
      "    https://scikit-learn.org/stable/modules/preprocessing.html\n",
      "Please also refer to the documentation for alternative solver options:\n",
      "    https://scikit-learn.org/stable/modules/linear_model.html#logistic-regression\n",
      "  n_iter_i = _check_optimize_result(\n",
      "C:\\Users\\gyank\\anaconda3\\lib\\site-packages\\sklearn\\linear_model\\_logistic.py:814: ConvergenceWarning: lbfgs failed to converge (status=1):\n",
      "STOP: TOTAL NO. of ITERATIONS REACHED LIMIT.\n",
      "\n",
      "Increase the number of iterations (max_iter) or scale the data as shown in:\n",
      "    https://scikit-learn.org/stable/modules/preprocessing.html\n",
      "Please also refer to the documentation for alternative solver options:\n",
      "    https://scikit-learn.org/stable/modules/linear_model.html#logistic-regression\n",
      "  n_iter_i = _check_optimize_result(\n"
     ]
    },
    {
     "name": "stdout",
     "output_type": "stream",
     "text": [
      "Scores for : TF-IDF-LR\n",
      "      Model no  Accuracy  Precision  f1 score    Recall\n",
      "0  TF-IDF-LR-0  0.811903   0.853922  0.795073  0.743813\n",
      "1  TF-IDF-LR-1  0.820877   0.861372  0.805614  0.756636\n",
      "2  TF-IDF-LR-2  0.826552   0.856563  0.814543  0.776453\n",
      "3  TF-IDF-LR-3  0.831874   0.858611  0.821168  0.786854\n",
      "4  TF-IDF-LR-4  0.838693   0.856259  0.830678  0.806582\n",
      "5  TF-IDF-LR-5  0.871376   0.871300  0.868478  0.865674\n",
      "6          Avg  0.871376   0.871300  0.868478  0.865674\n"
     ]
    },
    {
     "data": {
      "image/png": "[encoded data removed]",
      "text/plain": [
       "<Figure size 1000x300 with 1 Axes>"
      ]
     },
     "metadata": {},
     "output_type": "display_data"
    }
   ],
   "source": [
    "lr_bow_models = []\n",
    "for i, pos in enumerate(pos_data):\n",
    "    #print(i)\n",
    "    pos_labels = np.ones(pos.shape[0])\n",
    "    neg_labels = np.zeros(neg.shape[0])\n",
    "    y = np.hstack((pos_labels, neg_labels))\n",
    "    x = sparse.vstack((pos, neg))\n",
    "    X_train, X_test, y_train, y_test = train_test_split(x, y, test_size = 0.20, random_state = 0)\n",
    "    \n",
    "    \n",
    "    model = logistic_regression(X_train, y_train)\n",
    "    lr_bow_models.append(model)\n",
    "    mod_file = r'Models/LR/LR_'+str(i)+'.model'\n",
    "    pickle.dump(model, open(mod_file, 'wb'))\n",
    "    \n",
    "evaluate_metrics(\"TF-IDF-LR\", lr_bow_models, X_test, y_test)"
   ]
  },
  {
   "cell_type": "markdown",
   "id": "d33435fc-8ae9-457a-a881-5957e9a29f2b",
   "metadata": {},
   "source": [
    "### SVM model one vs all"
   ]
  },
  {
   "cell_type": "code",
   "execution_count": 20,
   "id": "03e5173c-1800-4af5-967d-f8bb28379b02",
   "metadata": {},
   "outputs": [
    {
     "name": "stdout",
     "output_type": "stream",
     "text": [
      "******"
     ]
    }
   ],
   "source": [
    "svm_bow_models = []\n",
    "for i, pos in enumerate(pos_data):\n",
    "    #print(i)\n",
    "    pos_labels = np.ones(pos.shape[0])\n",
    "    neg_labels = np.zeros(neg.shape[0])\n",
    "    y = np.hstack((pos_labels, neg_labels))\n",
    "    x = sparse.vstack((pos, neg))\n",
    "    X_train, X_test, y_train, y_test = train_test_split(x, y, test_size = 0.20, random_state = 0)\n",
    "    \n",
    "    \n",
    "    model = gen_svm_model(X_train, y_train)\n",
    "    lr_bow_models.append(model)\n",
    "    mod_file = r'Models/SVM/SVM_'+str(i)+'.model'\n",
    "    pickle.dump(model, open(mod_file, 'wb'))\n"
   ]
  },
  {
   "cell_type": "code",
   "execution_count": 21,
   "id": "e9a935a4-6984-4061-bfd0-9047309db631",
   "metadata": {},
   "outputs": [
    {
     "name": "stdout",
     "output_type": "stream",
     "text": [
      "Scores for : TF-IDF-SVM\n"
     ]
    },
    {
     "ename": "TypeError",
     "evalue": "no numeric data to plot",
     "output_type": "error",
     "traceback": [
      "\u001b[1;31m---------------------------------------------------------------------------\u001b[0m",
      "\u001b[1;31mTypeError\u001b[0m                                 Traceback (most recent call last)",
      "\u001b[1;32m~\\AppData\\Local\\Temp\\ipykernel_520\\1845586457.py\u001b[0m in \u001b[0;36m<module>\u001b[1;34m\u001b[0m\n\u001b[1;32m----> 1\u001b[1;33m \u001b[0mevaluate_metrics\u001b[0m\u001b[1;33m(\u001b[0m\u001b[1;34m\"TF-IDF-SVM\"\u001b[0m\u001b[1;33m,\u001b[0m \u001b[0msvm_bow_models\u001b[0m\u001b[1;33m,\u001b[0m \u001b[0mX_test\u001b[0m\u001b[1;33m,\u001b[0m \u001b[0my_test\u001b[0m\u001b[1;33m)\u001b[0m\u001b[1;33m\u001b[0m\u001b[1;33m\u001b[0m\u001b[0m\n\u001b[0m",
      "\u001b[1;32m~\\AppData\\Local\\Temp\\ipykernel_520\\1423855151.py\u001b[0m in \u001b[0;36mevaluate_metrics\u001b[1;34m(model_name, models, X_test, y_test)\u001b[0m\n\u001b[0;32m     14\u001b[0m         \u001b[0mdf\u001b[0m\u001b[1;33m.\u001b[0m\u001b[0mloc\u001b[0m\u001b[1;33m[\u001b[0m\u001b[0mlen\u001b[0m\u001b[1;33m(\u001b[0m\u001b[0mdf\u001b[0m\u001b[1;33m.\u001b[0m\u001b[0mindex\u001b[0m\u001b[1;33m)\u001b[0m\u001b[1;33m]\u001b[0m \u001b[1;33m=\u001b[0m \u001b[1;33m[\u001b[0m\u001b[0mmodel_label\u001b[0m\u001b[1;33m,\u001b[0m \u001b[0maccuracy\u001b[0m\u001b[1;33m,\u001b[0m\u001b[0mprescision\u001b[0m\u001b[1;33m,\u001b[0m\u001b[0mf1\u001b[0m\u001b[1;33m,\u001b[0m\u001b[0mrecall\u001b[0m\u001b[1;33m]\u001b[0m\u001b[1;33m\u001b[0m\u001b[1;33m\u001b[0m\u001b[0m\n\u001b[0;32m     15\u001b[0m     \u001b[1;31m#plt.plot(y = df['Accuracy'], x = range(6))\u001b[0m\u001b[1;33m\u001b[0m\u001b[1;33m\u001b[0m\u001b[0m\n\u001b[1;32m---> 16\u001b[1;33m     \u001b[0mdf\u001b[0m\u001b[1;33m.\u001b[0m\u001b[0mplot\u001b[0m\u001b[1;33m(\u001b[0m\u001b[0mylim\u001b[0m\u001b[1;33m=\u001b[0m\u001b[1;33m(\u001b[0m\u001b[1;36m0\u001b[0m\u001b[1;33m,\u001b[0m\u001b[1;36m1\u001b[0m\u001b[1;33m)\u001b[0m\u001b[1;33m,\u001b[0m \u001b[0mstyle\u001b[0m\u001b[1;33m=\u001b[0m\u001b[1;34m'.-'\u001b[0m\u001b[1;33m,\u001b[0m \u001b[0mfigsize\u001b[0m\u001b[1;33m=\u001b[0m\u001b[1;33m[\u001b[0m\u001b[1;36m10\u001b[0m\u001b[1;33m,\u001b[0m\u001b[1;36m3\u001b[0m\u001b[1;33m]\u001b[0m\u001b[1;33m)\u001b[0m\u001b[1;33m\u001b[0m\u001b[1;33m\u001b[0m\u001b[0m\n\u001b[0m\u001b[0;32m     17\u001b[0m     \u001b[0ma\u001b[0m \u001b[1;33m=\u001b[0m \u001b[0mdf\u001b[0m\u001b[1;33m[\u001b[0m\u001b[1;34m'Accuracy'\u001b[0m\u001b[1;33m]\u001b[0m\u001b[1;33m.\u001b[0m\u001b[0mmean\u001b[0m\u001b[1;33m(\u001b[0m\u001b[1;33m)\u001b[0m\u001b[1;33m\u001b[0m\u001b[1;33m\u001b[0m\u001b[0m\n\u001b[0;32m     18\u001b[0m     \u001b[0mb\u001b[0m \u001b[1;33m=\u001b[0m \u001b[0mdf\u001b[0m\u001b[1;33m[\u001b[0m\u001b[1;34m'Precision'\u001b[0m\u001b[1;33m]\u001b[0m\u001b[1;33m.\u001b[0m\u001b[0mmean\u001b[0m\u001b[1;33m(\u001b[0m\u001b[1;33m)\u001b[0m\u001b[1;33m\u001b[0m\u001b[1;33m\u001b[0m\u001b[0m\n",
      "\u001b[1;32m~\\anaconda3\\lib\\site-packages\\pandas\\plotting\\_core.py\u001b[0m in \u001b[0;36m__call__\u001b[1;34m(self, *args, **kwargs)\u001b[0m\n\u001b[0;32m    970\u001b[0m                     \u001b[0mdata\u001b[0m\u001b[1;33m.\u001b[0m\u001b[0mcolumns\u001b[0m \u001b[1;33m=\u001b[0m \u001b[0mlabel_name\u001b[0m\u001b[1;33m\u001b[0m\u001b[1;33m\u001b[0m\u001b[0m\n\u001b[0;32m    971\u001b[0m \u001b[1;33m\u001b[0m\u001b[0m\n\u001b[1;32m--> 972\u001b[1;33m         \u001b[1;32mreturn\u001b[0m \u001b[0mplot_backend\u001b[0m\u001b[1;33m.\u001b[0m\u001b[0mplot\u001b[0m\u001b[1;33m(\u001b[0m\u001b[0mdata\u001b[0m\u001b[1;33m,\u001b[0m \u001b[0mkind\u001b[0m\u001b[1;33m=\u001b[0m\u001b[0mkind\u001b[0m\u001b[1;33m,\u001b[0m \u001b[1;33m**\u001b[0m\u001b[0mkwargs\u001b[0m\u001b[1;33m)\u001b[0m\u001b[1;33m\u001b[0m\u001b[1;33m\u001b[0m\u001b[0m\n\u001b[0m\u001b[0;32m    973\u001b[0m \u001b[1;33m\u001b[0m\u001b[0m\n\u001b[0;32m    974\u001b[0m     \u001b[0m__call__\u001b[0m\u001b[1;33m.\u001b[0m\u001b[0m__doc__\u001b[0m \u001b[1;33m=\u001b[0m \u001b[0m__doc__\u001b[0m\u001b[1;33m\u001b[0m\u001b[1;33m\u001b[0m\u001b[0m\n",
      "\u001b[1;32m~\\anaconda3\\lib\\site-packages\\pandas\\plotting\\_matplotlib\\__init__.py\u001b[0m in \u001b[0;36mplot\u001b[1;34m(data, kind, **kwargs)\u001b[0m\n\u001b[0;32m     69\u001b[0m             \u001b[0mkwargs\u001b[0m\u001b[1;33m[\u001b[0m\u001b[1;34m\"ax\"\u001b[0m\u001b[1;33m]\u001b[0m \u001b[1;33m=\u001b[0m \u001b[0mgetattr\u001b[0m\u001b[1;33m(\u001b[0m\u001b[0max\u001b[0m\u001b[1;33m,\u001b[0m \u001b[1;34m\"left_ax\"\u001b[0m\u001b[1;33m,\u001b[0m \u001b[0max\u001b[0m\u001b[1;33m)\u001b[0m\u001b[1;33m\u001b[0m\u001b[1;33m\u001b[0m\u001b[0m\n\u001b[0;32m     70\u001b[0m     \u001b[0mplot_obj\u001b[0m \u001b[1;33m=\u001b[0m \u001b[0mPLOT_CLASSES\u001b[0m\u001b[1;33m[\u001b[0m\u001b[0mkind\u001b[0m\u001b[1;33m]\u001b[0m\u001b[1;33m(\u001b[0m\u001b[0mdata\u001b[0m\u001b[1;33m,\u001b[0m \u001b[1;33m**\u001b[0m\u001b[0mkwargs\u001b[0m\u001b[1;33m)\u001b[0m\u001b[1;33m\u001b[0m\u001b[1;33m\u001b[0m\u001b[0m\n\u001b[1;32m---> 71\u001b[1;33m     \u001b[0mplot_obj\u001b[0m\u001b[1;33m.\u001b[0m\u001b[0mgenerate\u001b[0m\u001b[1;33m(\u001b[0m\u001b[1;33m)\u001b[0m\u001b[1;33m\u001b[0m\u001b[1;33m\u001b[0m\u001b[0m\n\u001b[0m\u001b[0;32m     72\u001b[0m     \u001b[0mplot_obj\u001b[0m\u001b[1;33m.\u001b[0m\u001b[0mdraw\u001b[0m\u001b[1;33m(\u001b[0m\u001b[1;33m)\u001b[0m\u001b[1;33m\u001b[0m\u001b[1;33m\u001b[0m\u001b[0m\n\u001b[0;32m     73\u001b[0m     \u001b[1;32mreturn\u001b[0m \u001b[0mplot_obj\u001b[0m\u001b[1;33m.\u001b[0m\u001b[0mresult\u001b[0m\u001b[1;33m\u001b[0m\u001b[1;33m\u001b[0m\u001b[0m\n",
      "\u001b[1;32m~\\anaconda3\\lib\\site-packages\\pandas\\plotting\\_matplotlib\\core.py\u001b[0m in \u001b[0;36mgenerate\u001b[1;34m(self)\u001b[0m\n\u001b[0;32m    325\u001b[0m     \u001b[1;32mdef\u001b[0m \u001b[0mgenerate\u001b[0m\u001b[1;33m(\u001b[0m\u001b[0mself\u001b[0m\u001b[1;33m)\u001b[0m\u001b[1;33m:\u001b[0m\u001b[1;33m\u001b[0m\u001b[1;33m\u001b[0m\u001b[0m\n\u001b[0;32m    326\u001b[0m         \u001b[0mself\u001b[0m\u001b[1;33m.\u001b[0m\u001b[0m_args_adjust\u001b[0m\u001b[1;33m(\u001b[0m\u001b[1;33m)\u001b[0m\u001b[1;33m\u001b[0m\u001b[1;33m\u001b[0m\u001b[0m\n\u001b[1;32m--> 327\u001b[1;33m         \u001b[0mself\u001b[0m\u001b[1;33m.\u001b[0m\u001b[0m_compute_plot_data\u001b[0m\u001b[1;33m(\u001b[0m\u001b[1;33m)\u001b[0m\u001b[1;33m\u001b[0m\u001b[1;33m\u001b[0m\u001b[0m\n\u001b[0m\u001b[0;32m    328\u001b[0m         \u001b[0mself\u001b[0m\u001b[1;33m.\u001b[0m\u001b[0m_setup_subplots\u001b[0m\u001b[1;33m(\u001b[0m\u001b[1;33m)\u001b[0m\u001b[1;33m\u001b[0m\u001b[1;33m\u001b[0m\u001b[0m\n\u001b[0;32m    329\u001b[0m         \u001b[0mself\u001b[0m\u001b[1;33m.\u001b[0m\u001b[0m_make_plot\u001b[0m\u001b[1;33m(\u001b[0m\u001b[1;33m)\u001b[0m\u001b[1;33m\u001b[0m\u001b[1;33m\u001b[0m\u001b[0m\n",
      "\u001b[1;32m~\\anaconda3\\lib\\site-packages\\pandas\\plotting\\_matplotlib\\core.py\u001b[0m in \u001b[0;36m_compute_plot_data\u001b[1;34m(self)\u001b[0m\n\u001b[0;32m    504\u001b[0m         \u001b[1;31m# no non-numeric frames or series allowed\u001b[0m\u001b[1;33m\u001b[0m\u001b[1;33m\u001b[0m\u001b[0m\n\u001b[0;32m    505\u001b[0m         \u001b[1;32mif\u001b[0m \u001b[0mis_empty\u001b[0m\u001b[1;33m:\u001b[0m\u001b[1;33m\u001b[0m\u001b[1;33m\u001b[0m\u001b[0m\n\u001b[1;32m--> 506\u001b[1;33m             \u001b[1;32mraise\u001b[0m \u001b[0mTypeError\u001b[0m\u001b[1;33m(\u001b[0m\u001b[1;34m\"no numeric data to plot\"\u001b[0m\u001b[1;33m)\u001b[0m\u001b[1;33m\u001b[0m\u001b[1;33m\u001b[0m\u001b[0m\n\u001b[0m\u001b[0;32m    507\u001b[0m \u001b[1;33m\u001b[0m\u001b[0m\n\u001b[0;32m    508\u001b[0m         \u001b[0mself\u001b[0m\u001b[1;33m.\u001b[0m\u001b[0mdata\u001b[0m \u001b[1;33m=\u001b[0m \u001b[0mnumeric_data\u001b[0m\u001b[1;33m.\u001b[0m\u001b[0mapply\u001b[0m\u001b[1;33m(\u001b[0m\u001b[0mself\u001b[0m\u001b[1;33m.\u001b[0m\u001b[0m_convert_to_ndarray\u001b[0m\u001b[1;33m)\u001b[0m\u001b[1;33m\u001b[0m\u001b[1;33m\u001b[0m\u001b[0m\n",
      "\u001b[1;31mTypeError\u001b[0m: no numeric data to plot"
     ]
    }
   ],
   "source": [
    "evaluate_metrics(\"TF-IDF-SVM\", svm_bow_models, X_test, y_test)"
   ]
  }
 ],
 "metadata": {
  "kernelspec": {
   "display_name": "Python 3 (ipykernel)",
   "language": "python",
   "name": "python3"
  },
  "language_info": {
   "codemirror_mode": {
    "name": "ipython",
    "version": 3
   },
   "file_extension": ".py",
   "mimetype": "text/x-python",
   "name": "python",
   "nbconvert_exporter": "python",
   "pygments_lexer": "ipython3",
   "version": "3.9.13"
  }
 },
 "nbformat": 4,
 "nbformat_minor": 5
}
